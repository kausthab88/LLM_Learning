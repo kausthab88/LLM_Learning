{
  "nbformat": 4,
  "nbformat_minor": 0,
  "metadata": {
    "colab": {
      "provenance": []
    },
    "kernelspec": {
      "name": "python3",
      "display_name": "Python 3"
    },
    "language_info": {
      "name": "python"
    }
  },
  "cells": [
    {
      "cell_type": "markdown",
      "source": [
        "This notebook explores the different tokenization techniques available in NLP. Here we explore sentence tokenizer, word tokenizer, word punctuation tokenizer and tree bank word tokenizer"
      ],
      "metadata": {
        "id": "dMMnOGAysRI8"
      }
    },
    {
      "cell_type": "code",
      "execution_count": 1,
      "metadata": {
        "colab": {
          "base_uri": "https://localhost:8080/"
        },
        "id": "v-bF_ceCrQez",
        "outputId": "62ff57ae-8634-47c5-cb94-980959905751"
      },
      "outputs": [
        {
          "output_type": "stream",
          "name": "stdout",
          "text": [
            "Requirement already satisfied: nltk in /usr/local/lib/python3.10/dist-packages (3.8.1)\n",
            "Requirement already satisfied: click in /usr/local/lib/python3.10/dist-packages (from nltk) (8.1.7)\n",
            "Requirement already satisfied: joblib in /usr/local/lib/python3.10/dist-packages (from nltk) (1.4.2)\n",
            "Requirement already satisfied: regex>=2021.8.3 in /usr/local/lib/python3.10/dist-packages (from nltk) (2024.5.15)\n",
            "Requirement already satisfied: tqdm in /usr/local/lib/python3.10/dist-packages (from nltk) (4.66.5)\n"
          ]
        }
      ],
      "source": [
        "pip install nltk"
      ]
    },
    {
      "cell_type": "code",
      "source": [
        "corpus = \"\"\"\"The Night Librarian\" by Christopher Lincoln brings a unique twist to the adventure genre, combining the nostalgic charm of \"Night at the Museum\" with the fantastical elements of \"The Land of Stories.\" The story follows twins Page and Turner, who have always found solace in the New York Public Library amidst their parents' frequent travels. However, their routine visits take an unexpected turn when they embark on a secret mission that revolves around their father's rare edition of Bram Stoker's \"Dracula.\"\n",
        "\n",
        "As the twins delve deeper, they encounter a world hidden within the library's walls, brought to life by the enigmatic Night Librarian. This character serves as their guide through a realm where famous literary heroes and villains have broken free from their pages, creating a dynamic and often chaotic environment. The stakes are high as Page and Turner, alongside their newfound allies, must prevent the library's imminent destruction.\n",
        "\n",
        "\"The Night Librarian\" is a commendable effort that will likely appeal to young readers and fans of literary adventures. Its blend of mystery, magic, and familiar faces from classic literature offers a captivating experience, even if it doesn't fully realize its potential. With more focused storytelling and deeper character exploration, this series has the potential to become a beloved staple in the graphic novel genre. For now, it stands as an enjoyable, if somewhat uneven, introduction to the magical world hidden within the library's walls.\"\"\""
      ],
      "metadata": {
        "id": "kKj8UvgjrTbI"
      },
      "execution_count": 2,
      "outputs": []
    },
    {
      "cell_type": "markdown",
      "source": [
        "## Sentence Tokenization"
      ],
      "metadata": {
        "id": "D2kBp2M6sSAi"
      }
    },
    {
      "cell_type": "code",
      "source": [
        "from nltk.tokenize import sent_tokenize"
      ],
      "metadata": {
        "id": "dxh0FG4TrWaF"
      },
      "execution_count": 3,
      "outputs": []
    },
    {
      "cell_type": "code",
      "source": [
        "import nltk"
      ],
      "metadata": {
        "id": "osFaEHler0BY"
      },
      "execution_count": 4,
      "outputs": []
    },
    {
      "cell_type": "code",
      "source": [
        "nltk.download('punkt')"
      ],
      "metadata": {
        "colab": {
          "base_uri": "https://localhost:8080/"
        },
        "id": "3KvpNugOruo3",
        "outputId": "79268367-a0bb-4c87-e13f-9b246a0d33da"
      },
      "execution_count": 5,
      "outputs": [
        {
          "output_type": "stream",
          "name": "stderr",
          "text": [
            "[nltk_data] Downloading package punkt to /root/nltk_data...\n",
            "[nltk_data]   Unzipping tokenizers/punkt.zip.\n"
          ]
        },
        {
          "output_type": "execute_result",
          "data": {
            "text/plain": [
              "True"
            ]
          },
          "metadata": {},
          "execution_count": 5
        }
      ]
    },
    {
      "cell_type": "code",
      "source": [
        "docs = sent_tokenize(corpus)"
      ],
      "metadata": {
        "id": "HsV26wpZrWXd"
      },
      "execution_count": 6,
      "outputs": []
    },
    {
      "cell_type": "code",
      "source": [
        "docs"
      ],
      "metadata": {
        "colab": {
          "base_uri": "https://localhost:8080/"
        },
        "id": "9uNHSDZMuLPU",
        "outputId": "27686685-07de-4a02-d1e8-01161b13f6ca"
      },
      "execution_count": 7,
      "outputs": [
        {
          "output_type": "execute_result",
          "data": {
            "text/plain": [
              "['\"The Night Librarian\" by Christopher Lincoln brings a unique twist to the adventure genre, combining the nostalgic charm of \"Night at the Museum\" with the fantastical elements of \"The Land of Stories.\"',\n",
              " \"The story follows twins Page and Turner, who have always found solace in the New York Public Library amidst their parents' frequent travels.\",\n",
              " 'However, their routine visits take an unexpected turn when they embark on a secret mission that revolves around their father\\'s rare edition of Bram Stoker\\'s \"Dracula.\"',\n",
              " \"As the twins delve deeper, they encounter a world hidden within the library's walls, brought to life by the enigmatic Night Librarian.\",\n",
              " 'This character serves as their guide through a realm where famous literary heroes and villains have broken free from their pages, creating a dynamic and often chaotic environment.',\n",
              " \"The stakes are high as Page and Turner, alongside their newfound allies, must prevent the library's imminent destruction.\",\n",
              " '\"The Night Librarian\" is a commendable effort that will likely appeal to young readers and fans of literary adventures.',\n",
              " \"Its blend of mystery, magic, and familiar faces from classic literature offers a captivating experience, even if it doesn't fully realize its potential.\",\n",
              " 'With more focused storytelling and deeper character exploration, this series has the potential to become a beloved staple in the graphic novel genre.',\n",
              " \"For now, it stands as an enjoyable, if somewhat uneven, introduction to the magical world hidden within the library's walls.\"]"
            ]
          },
          "metadata": {},
          "execution_count": 7
        }
      ]
    },
    {
      "cell_type": "code",
      "source": [
        "for sent in docs:\n",
        "  print(sent)"
      ],
      "metadata": {
        "colab": {
          "base_uri": "https://localhost:8080/"
        },
        "id": "UP0Cq5bSrWU_",
        "outputId": "3e31d452-456f-4898-c860-1f029c8d45c8"
      },
      "execution_count": 8,
      "outputs": [
        {
          "output_type": "stream",
          "name": "stdout",
          "text": [
            "\"The Night Librarian\" by Christopher Lincoln brings a unique twist to the adventure genre, combining the nostalgic charm of \"Night at the Museum\" with the fantastical elements of \"The Land of Stories.\"\n",
            "The story follows twins Page and Turner, who have always found solace in the New York Public Library amidst their parents' frequent travels.\n",
            "However, their routine visits take an unexpected turn when they embark on a secret mission that revolves around their father's rare edition of Bram Stoker's \"Dracula.\"\n",
            "As the twins delve deeper, they encounter a world hidden within the library's walls, brought to life by the enigmatic Night Librarian.\n",
            "This character serves as their guide through a realm where famous literary heroes and villains have broken free from their pages, creating a dynamic and often chaotic environment.\n",
            "The stakes are high as Page and Turner, alongside their newfound allies, must prevent the library's imminent destruction.\n",
            "\"The Night Librarian\" is a commendable effort that will likely appeal to young readers and fans of literary adventures.\n",
            "Its blend of mystery, magic, and familiar faces from classic literature offers a captivating experience, even if it doesn't fully realize its potential.\n",
            "With more focused storytelling and deeper character exploration, this series has the potential to become a beloved staple in the graphic novel genre.\n",
            "For now, it stands as an enjoyable, if somewhat uneven, introduction to the magical world hidden within the library's walls.\n"
          ]
        }
      ]
    },
    {
      "cell_type": "markdown",
      "source": [
        "## Word Tokenization"
      ],
      "metadata": {
        "id": "k1Mr5p_NrWSv"
      }
    },
    {
      "cell_type": "code",
      "source": [
        "from nltk.tokenize import word_tokenize"
      ],
      "metadata": {
        "id": "eHAzQfCzrWQL"
      },
      "execution_count": 9,
      "outputs": []
    },
    {
      "cell_type": "code",
      "source": [
        "print(word_tokenize(corpus))"
      ],
      "metadata": {
        "colab": {
          "base_uri": "https://localhost:8080/"
        },
        "id": "9eOsVSEQrWNj",
        "outputId": "66beaf23-7614-4aba-cfdb-adba7ab7d14a"
      },
      "execution_count": 10,
      "outputs": [
        {
          "output_type": "stream",
          "name": "stdout",
          "text": [
            "['``', 'The', 'Night', 'Librarian', \"''\", 'by', 'Christopher', 'Lincoln', 'brings', 'a', 'unique', 'twist', 'to', 'the', 'adventure', 'genre', ',', 'combining', 'the', 'nostalgic', 'charm', 'of', '``', 'Night', 'at', 'the', 'Museum', \"''\", 'with', 'the', 'fantastical', 'elements', 'of', '``', 'The', 'Land', 'of', 'Stories', '.', \"''\", 'The', 'story', 'follows', 'twins', 'Page', 'and', 'Turner', ',', 'who', 'have', 'always', 'found', 'solace', 'in', 'the', 'New', 'York', 'Public', 'Library', 'amidst', 'their', 'parents', \"'\", 'frequent', 'travels', '.', 'However', ',', 'their', 'routine', 'visits', 'take', 'an', 'unexpected', 'turn', 'when', 'they', 'embark', 'on', 'a', 'secret', 'mission', 'that', 'revolves', 'around', 'their', 'father', \"'s\", 'rare', 'edition', 'of', 'Bram', 'Stoker', \"'s\", '``', 'Dracula', '.', \"''\", 'As', 'the', 'twins', 'delve', 'deeper', ',', 'they', 'encounter', 'a', 'world', 'hidden', 'within', 'the', 'library', \"'s\", 'walls', ',', 'brought', 'to', 'life', 'by', 'the', 'enigmatic', 'Night', 'Librarian', '.', 'This', 'character', 'serves', 'as', 'their', 'guide', 'through', 'a', 'realm', 'where', 'famous', 'literary', 'heroes', 'and', 'villains', 'have', 'broken', 'free', 'from', 'their', 'pages', ',', 'creating', 'a', 'dynamic', 'and', 'often', 'chaotic', 'environment', '.', 'The', 'stakes', 'are', 'high', 'as', 'Page', 'and', 'Turner', ',', 'alongside', 'their', 'newfound', 'allies', ',', 'must', 'prevent', 'the', 'library', \"'s\", 'imminent', 'destruction', '.', '``', 'The', 'Night', 'Librarian', \"''\", 'is', 'a', 'commendable', 'effort', 'that', 'will', 'likely', 'appeal', 'to', 'young', 'readers', 'and', 'fans', 'of', 'literary', 'adventures', '.', 'Its', 'blend', 'of', 'mystery', ',', 'magic', ',', 'and', 'familiar', 'faces', 'from', 'classic', 'literature', 'offers', 'a', 'captivating', 'experience', ',', 'even', 'if', 'it', 'does', \"n't\", 'fully', 'realize', 'its', 'potential', '.', 'With', 'more', 'focused', 'storytelling', 'and', 'deeper', 'character', 'exploration', ',', 'this', 'series', 'has', 'the', 'potential', 'to', 'become', 'a', 'beloved', 'staple', 'in', 'the', 'graphic', 'novel', 'genre', '.', 'For', 'now', ',', 'it', 'stands', 'as', 'an', 'enjoyable', ',', 'if', 'somewhat', 'uneven', ',', 'introduction', 'to', 'the', 'magical', 'world', 'hidden', 'within', 'the', 'library', \"'s\", 'walls', '.']\n"
          ]
        }
      ]
    },
    {
      "cell_type": "code",
      "source": [
        "from nltk.tokenize import wordpunct_tokenize"
      ],
      "metadata": {
        "id": "03aOlAQvrWLJ"
      },
      "execution_count": 11,
      "outputs": []
    },
    {
      "cell_type": "code",
      "source": [
        "wp_tokenizer = wordpunct_tokenize(corpus)"
      ],
      "metadata": {
        "id": "PryOX4W0rWI0"
      },
      "execution_count": 12,
      "outputs": []
    },
    {
      "cell_type": "code",
      "source": [
        "from nltk.tokenize import TreebankWordTokenizer"
      ],
      "metadata": {
        "id": "yoGam4NDrWGV"
      },
      "execution_count": 13,
      "outputs": []
    },
    {
      "cell_type": "code",
      "source": [
        "tokenizer = TreebankWordTokenizer()"
      ],
      "metadata": {
        "id": "bsXEqKN7rWDu"
      },
      "execution_count": 14,
      "outputs": []
    },
    {
      "cell_type": "code",
      "source": [
        "tb_tokenizer = tokenizer.tokenize(corpus)"
      ],
      "metadata": {
        "id": "5iwPs7UctbDs"
      },
      "execution_count": 15,
      "outputs": []
    },
    {
      "cell_type": "code",
      "source": [
        "set1 = set(wp_tokenizer)"
      ],
      "metadata": {
        "id": "JquxwUWntnwL"
      },
      "execution_count": 16,
      "outputs": []
    },
    {
      "cell_type": "code",
      "source": [
        "set2 = set(tb_tokenizer)"
      ],
      "metadata": {
        "id": "zctOWN6xv3J2"
      },
      "execution_count": 17,
      "outputs": []
    },
    {
      "cell_type": "markdown",
      "source": [
        "#### How is word punct tokenizer different from tree bank word tokenizer"
      ],
      "metadata": {
        "id": "rrln8UD9rnXL"
      }
    },
    {
      "cell_type": "code",
      "source": [
        "set1-set2 #tems that are in list1 but not in list2"
      ],
      "metadata": {
        "colab": {
          "base_uri": "https://localhost:8080/"
        },
        "id": "Y8KhJB4Iv6hp",
        "outputId": "e44a252a-de4e-44bb-e341-2c4dd5194fe2"
      },
      "execution_count": 18,
      "outputs": [
        {
          "output_type": "execute_result",
          "data": {
            "text/plain": [
              "{'\"',\n",
              " '.\"',\n",
              " 'Dracula',\n",
              " 'Stories',\n",
              " 'adventures',\n",
              " 'destruction',\n",
              " 'doesn',\n",
              " 'environment',\n",
              " 's',\n",
              " 't',\n",
              " 'travels'}"
            ]
          },
          "metadata": {},
          "execution_count": 18
        }
      ]
    },
    {
      "cell_type": "code",
      "source": [
        "set2-set1 #tems that are in list2 but not in list1."
      ],
      "metadata": {
        "colab": {
          "base_uri": "https://localhost:8080/"
        },
        "id": "wwHm3rkcv_Nc",
        "outputId": "67dbe620-57d9-4340-815b-67a8a07a267c"
      },
      "execution_count": 19,
      "outputs": [
        {
          "output_type": "execute_result",
          "data": {
            "text/plain": [
              "{\"''\",\n",
              " \"'s\",\n",
              " 'Dracula.',\n",
              " 'Librarian.',\n",
              " 'Stories.',\n",
              " '``',\n",
              " 'adventures.',\n",
              " 'destruction.',\n",
              " 'does',\n",
              " 'environment.',\n",
              " 'genre.',\n",
              " \"n't\",\n",
              " 'potential.',\n",
              " 'travels.'}"
            ]
          },
          "metadata": {},
          "execution_count": 19
        }
      ]
    },
    {
      "cell_type": "code",
      "source": [],
      "metadata": {
        "id": "eLwSRZViwCS6"
      },
      "execution_count": 19,
      "outputs": []
    }
  ]
}