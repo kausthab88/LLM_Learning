{
  "nbformat": 4,
  "nbformat_minor": 0,
  "metadata": {
    "colab": {
      "provenance": []
    },
    "kernelspec": {
      "name": "python3",
      "display_name": "Python 3"
    },
    "language_info": {
      "name": "python"
    }
  },
  "cells": [
    {
      "cell_type": "code",
      "source": [
        "import nltk"
      ],
      "metadata": {
        "id": "Xe21SSRXB3zs"
      },
      "execution_count": 31,
      "outputs": []
    },
    {
      "cell_type": "code",
      "source": [
        "nltk.download('punkt')"
      ],
      "metadata": {
        "colab": {
          "base_uri": "https://localhost:8080/"
        },
        "id": "jZ-As6efBxhu",
        "outputId": "e4821b69-8603-449f-b1af-3b85c787693c"
      },
      "execution_count": 32,
      "outputs": [
        {
          "output_type": "stream",
          "name": "stderr",
          "text": [
            "[nltk_data] Downloading package punkt to /root/nltk_data...\n",
            "[nltk_data]   Unzipping tokenizers/punkt.zip.\n"
          ]
        },
        {
          "output_type": "execute_result",
          "data": {
            "text/plain": [
              "True"
            ]
          },
          "metadata": {},
          "execution_count": 32
        }
      ]
    },
    {
      "cell_type": "code",
      "source": [
        "nltk.download('stopwords')"
      ],
      "metadata": {
        "colab": {
          "base_uri": "https://localhost:8080/"
        },
        "id": "tICXlKaEJAV9",
        "outputId": "ff0400c5-7c44-402e-b81e-59b51b3cf098"
      },
      "execution_count": 46,
      "outputs": [
        {
          "output_type": "stream",
          "name": "stderr",
          "text": [
            "[nltk_data] Downloading package stopwords to /root/nltk_data...\n",
            "[nltk_data]   Unzipping corpora/stopwords.zip.\n"
          ]
        },
        {
          "output_type": "execute_result",
          "data": {
            "text/plain": [
              "True"
            ]
          },
          "metadata": {},
          "execution_count": 46
        }
      ]
    },
    {
      "cell_type": "code",
      "source": [
        "corpus = \"\"\"\"The Night Librarian\" by Christopher Lincoln brings a unique twist to the adventure genre, combining the nostalgic charm of \"Night at the Museum\" with the fantastical elements of \"The Land of Stories.\" The story follows twins Page and Turner, who have always found solace in the New York Public Library amidst their parents' frequent travels. However, their routine visits take an unexpected turn when they embark on a secret mission that revolves around their father's rare edition of Bram Stoker's \"Dracula.\"\n",
        "\n",
        "As the twins delve deeper, they encounter a world hidden within the library's walls, brought to life by the enigmatic Night Librarian. This character serves as their guide through a realm where famous literary heroes and villains have broken free from their pages, creating a dynamic and often chaotic environment. The stakes are high as Page and Turner, alongside their newfound allies, must prevent the library's imminent destruction.\n",
        "\n",
        "\"The Night Librarian\" is a commendable effort that will likely appeal to young readers and fans of literary adventures. Its blend of mystery, magic, and familiar faces from classic literature offers a captivating experience, even if it doesn't fully realize its potential. With more focused storytelling and deeper character exploration, this series has the potential to become a beloved staple in the graphic novel genre. For now, it stands as an enjoyable, if somewhat uneven, introduction to the magical world hidden within the library's walls.\"\"\""
      ],
      "metadata": {
        "id": "GyEKGsoa_CpJ"
      },
      "execution_count": 24,
      "outputs": []
    },
    {
      "cell_type": "markdown",
      "source": [
        "## Porter Stemmer"
      ],
      "metadata": {
        "id": "odBy83On-0Lw"
      }
    },
    {
      "cell_type": "code",
      "source": [],
      "metadata": {
        "id": "b6_8WIm-BlEq"
      },
      "execution_count": null,
      "outputs": []
    },
    {
      "cell_type": "code",
      "source": [
        "from nltk.stem import PorterStemmer\n",
        "from nltk.tokenize import word_tokenize"
      ],
      "metadata": {
        "id": "THdOO6dt-3LX"
      },
      "execution_count": 27,
      "outputs": []
    },
    {
      "cell_type": "code",
      "source": [
        "porter = PorterStemmer()"
      ],
      "metadata": {
        "id": "eatH1iGO-6K-"
      },
      "execution_count": 23,
      "outputs": []
    },
    {
      "cell_type": "code",
      "source": [
        "word_tok = word_tokenize(corpus)"
      ],
      "metadata": {
        "id": "qNZ768cjBjoq"
      },
      "execution_count": 40,
      "outputs": []
    },
    {
      "cell_type": "code",
      "source": [
        "for word in word_tok:\n",
        " print(porter.stem(word))"
      ],
      "metadata": {
        "colab": {
          "base_uri": "https://localhost:8080/"
        },
        "id": "gHDmhbEXBhOj",
        "outputId": "62fd36b6-915c-4896-d096-b92df8713733"
      },
      "execution_count": 36,
      "outputs": [
        {
          "output_type": "stream",
          "name": "stdout",
          "text": [
            "``\n",
            "the\n",
            "night\n",
            "librarian\n",
            "''\n",
            "by\n",
            "christoph\n",
            "lincoln\n",
            "bring\n",
            "a\n",
            "uniqu\n",
            "twist\n",
            "to\n",
            "the\n",
            "adventur\n",
            "genr\n",
            ",\n",
            "combin\n",
            "the\n",
            "nostalg\n",
            "charm\n",
            "of\n",
            "``\n",
            "night\n",
            "at\n",
            "the\n",
            "museum\n",
            "''\n",
            "with\n",
            "the\n",
            "fantast\n",
            "element\n",
            "of\n",
            "``\n",
            "the\n",
            "land\n",
            "of\n",
            "stori\n",
            ".\n",
            "''\n",
            "the\n",
            "stori\n",
            "follow\n",
            "twin\n",
            "page\n",
            "and\n",
            "turner\n",
            ",\n",
            "who\n",
            "have\n",
            "alway\n",
            "found\n",
            "solac\n",
            "in\n",
            "the\n",
            "new\n",
            "york\n",
            "public\n",
            "librari\n",
            "amidst\n",
            "their\n",
            "parent\n",
            "'\n",
            "frequent\n",
            "travel\n",
            ".\n",
            "howev\n",
            ",\n",
            "their\n",
            "routin\n",
            "visit\n",
            "take\n",
            "an\n",
            "unexpect\n",
            "turn\n",
            "when\n",
            "they\n",
            "embark\n",
            "on\n",
            "a\n",
            "secret\n",
            "mission\n",
            "that\n",
            "revolv\n",
            "around\n",
            "their\n",
            "father\n",
            "'s\n",
            "rare\n",
            "edit\n",
            "of\n",
            "bram\n",
            "stoker\n",
            "'s\n",
            "``\n",
            "dracula\n",
            ".\n",
            "''\n",
            "as\n",
            "the\n",
            "twin\n",
            "delv\n",
            "deeper\n",
            ",\n",
            "they\n",
            "encount\n",
            "a\n",
            "world\n",
            "hidden\n",
            "within\n",
            "the\n",
            "librari\n",
            "'s\n",
            "wall\n",
            ",\n",
            "brought\n",
            "to\n",
            "life\n",
            "by\n",
            "the\n",
            "enigmat\n",
            "night\n",
            "librarian\n",
            ".\n",
            "thi\n",
            "charact\n",
            "serv\n",
            "as\n",
            "their\n",
            "guid\n",
            "through\n",
            "a\n",
            "realm\n",
            "where\n",
            "famou\n",
            "literari\n",
            "hero\n",
            "and\n",
            "villain\n",
            "have\n",
            "broken\n",
            "free\n",
            "from\n",
            "their\n",
            "page\n",
            ",\n",
            "creat\n",
            "a\n",
            "dynam\n",
            "and\n",
            "often\n",
            "chaotic\n",
            "environ\n",
            ".\n",
            "the\n",
            "stake\n",
            "are\n",
            "high\n",
            "as\n",
            "page\n",
            "and\n",
            "turner\n",
            ",\n",
            "alongsid\n",
            "their\n",
            "newfound\n",
            "alli\n",
            ",\n",
            "must\n",
            "prevent\n",
            "the\n",
            "librari\n",
            "'s\n",
            "immin\n",
            "destruct\n",
            ".\n",
            "``\n",
            "the\n",
            "night\n",
            "librarian\n",
            "''\n",
            "is\n",
            "a\n",
            "commend\n",
            "effort\n",
            "that\n",
            "will\n",
            "like\n",
            "appeal\n",
            "to\n",
            "young\n",
            "reader\n",
            "and\n",
            "fan\n",
            "of\n",
            "literari\n",
            "adventur\n",
            ".\n",
            "it\n",
            "blend\n",
            "of\n",
            "mysteri\n",
            ",\n",
            "magic\n",
            ",\n",
            "and\n",
            "familiar\n",
            "face\n",
            "from\n",
            "classic\n",
            "literatur\n",
            "offer\n",
            "a\n",
            "captiv\n",
            "experi\n",
            ",\n",
            "even\n",
            "if\n",
            "it\n",
            "doe\n",
            "n't\n",
            "fulli\n",
            "realiz\n",
            "it\n",
            "potenti\n",
            ".\n",
            "with\n",
            "more\n",
            "focus\n",
            "storytel\n",
            "and\n",
            "deeper\n",
            "charact\n",
            "explor\n",
            ",\n",
            "thi\n",
            "seri\n",
            "ha\n",
            "the\n",
            "potenti\n",
            "to\n",
            "becom\n",
            "a\n",
            "belov\n",
            "stapl\n",
            "in\n",
            "the\n",
            "graphic\n",
            "novel\n",
            "genr\n",
            ".\n",
            "for\n",
            "now\n",
            ",\n",
            "it\n",
            "stand\n",
            "as\n",
            "an\n",
            "enjoy\n",
            ",\n",
            "if\n",
            "somewhat\n",
            "uneven\n",
            ",\n",
            "introduct\n",
            "to\n",
            "the\n",
            "magic\n",
            "world\n",
            "hidden\n",
            "within\n",
            "the\n",
            "librari\n",
            "'s\n",
            "wall\n",
            ".\n"
          ]
        }
      ]
    },
    {
      "cell_type": "code",
      "source": [
        "porter.stem(corpus)"
      ],
      "metadata": {
        "colab": {
          "base_uri": "https://localhost:8080/",
          "height": 175
        },
        "id": "4Hu2Hicb-82d",
        "outputId": "8c8f9239-a63e-411d-c0ce-759f0aeb71b6"
      },
      "execution_count": 25,
      "outputs": [
        {
          "output_type": "execute_result",
          "data": {
            "text/plain": [
              "'\"the night librarian\" by christopher lincoln brings a unique twist to the adventure genre, combining the nostalgic charm of \"night at the museum\" with the fantastical elements of \"the land of stories.\" the story follows twins page and turner, who have always found solace in the new york public library amidst their parents\\' frequent travels. however, their routine visits take an unexpected turn when they embark on a secret mission that revolves around their father\\'s rare edition of bram stoker\\'s \"dracula.\"\\n\\nas the twins delve deeper, they encounter a world hidden within the library\\'s walls, brought to life by the enigmatic night librarian. this character serves as their guide through a realm where famous literary heroes and villains have broken free from their pages, creating a dynamic and often chaotic environment. the stakes are high as page and turner, alongside their newfound allies, must prevent the library\\'s imminent destruction.\\n\\n\"the night librarian\" is a commendable effort that will likely appeal to young readers and fans of literary adventures. its blend of mystery, magic, and familiar faces from classic literature offers a captivating experience, even if it doesn\\'t fully realize its potential. with more focused storytelling and deeper character exploration, this series has the potential to become a beloved staple in the graphic novel genre. for now, it stands as an enjoyable, if somewhat uneven, introduction to the magical world hidden within the library\\'s walls.'"
            ],
            "application/vnd.google.colaboratory.intrinsic+json": {
              "type": "string"
            }
          },
          "metadata": {},
          "execution_count": 25
        }
      ]
    },
    {
      "cell_type": "markdown",
      "source": [
        "## RegexpStemmer"
      ],
      "metadata": {
        "id": "yuQU2r7-9_k3"
      }
    },
    {
      "cell_type": "code",
      "execution_count": 2,
      "metadata": {
        "id": "uz98fiYy35Cd"
      },
      "outputs": [],
      "source": [
        "from nltk.stem import RegexpStemmer"
      ]
    },
    {
      "cell_type": "code",
      "source": [
        "reg_stemmer = RegexpStemmer('e$|ing$',min=6)"
      ],
      "metadata": {
        "id": "99rc4zrB9KLp"
      },
      "execution_count": 16,
      "outputs": []
    },
    {
      "cell_type": "code",
      "source": [
        "reg_stemmer.stem('creating')"
      ],
      "metadata": {
        "colab": {
          "base_uri": "https://localhost:8080/",
          "height": 36
        },
        "id": "fjg1XyBO9bZx",
        "outputId": "6f9061b7-9f79-4dfb-ac64-82e9764efd75"
      },
      "execution_count": 17,
      "outputs": [
        {
          "output_type": "execute_result",
          "data": {
            "text/plain": [
              "'creat'"
            ],
            "application/vnd.google.colaboratory.intrinsic+json": {
              "type": "string"
            }
          },
          "metadata": {},
          "execution_count": 17
        }
      ]
    },
    {
      "cell_type": "code",
      "source": [
        "reg_stemmer.stem('ecoli')"
      ],
      "metadata": {
        "colab": {
          "base_uri": "https://localhost:8080/",
          "height": 36
        },
        "id": "cxQeYC1I9dE_",
        "outputId": "c3113a0a-5944-406b-9698-45f5beee53f9"
      },
      "execution_count": 14,
      "outputs": [
        {
          "output_type": "execute_result",
          "data": {
            "text/plain": [
              "'ecoli'"
            ],
            "application/vnd.google.colaboratory.intrinsic+json": {
              "type": "string"
            }
          },
          "metadata": {},
          "execution_count": 14
        }
      ]
    },
    {
      "cell_type": "markdown",
      "source": [
        "##Snowball Stemmer"
      ],
      "metadata": {
        "id": "RGzsEAJe9m91"
      }
    },
    {
      "cell_type": "code",
      "source": [
        "from nltk.stem import SnowballStemmer"
      ],
      "metadata": {
        "id": "_5hVjSzS-F-E"
      },
      "execution_count": 18,
      "outputs": []
    },
    {
      "cell_type": "code",
      "source": [
        "snow_stem = SnowballStemmer('english')"
      ],
      "metadata": {
        "id": "hKLX10Ez-H9B"
      },
      "execution_count": 19,
      "outputs": []
    },
    {
      "cell_type": "code",
      "source": [
        "snow_stem.stem('fairly')"
      ],
      "metadata": {
        "colab": {
          "base_uri": "https://localhost:8080/",
          "height": 36
        },
        "id": "FNPYHzpV-cRR",
        "outputId": "cb8b948d-7be0-45a6-f3ef-7295a12e610f"
      },
      "execution_count": 21,
      "outputs": [
        {
          "output_type": "execute_result",
          "data": {
            "text/plain": [
              "'fair'"
            ],
            "application/vnd.google.colaboratory.intrinsic+json": {
              "type": "string"
            }
          },
          "metadata": {},
          "execution_count": 21
        }
      ]
    },
    {
      "cell_type": "code",
      "source": [
        "for word in word_tok:\n",
        " print(snow_stem.stem(word))"
      ],
      "metadata": {
        "colab": {
          "base_uri": "https://localhost:8080/"
        },
        "id": "yGWlm6pc-q78",
        "outputId": "56434f18-472d-47ba-c258-42156deedf55"
      },
      "execution_count": 37,
      "outputs": [
        {
          "output_type": "stream",
          "name": "stdout",
          "text": [
            "``\n",
            "the\n",
            "night\n",
            "librarian\n",
            "''\n",
            "by\n",
            "christoph\n",
            "lincoln\n",
            "bring\n",
            "a\n",
            "uniqu\n",
            "twist\n",
            "to\n",
            "the\n",
            "adventur\n",
            "genr\n",
            ",\n",
            "combin\n",
            "the\n",
            "nostalg\n",
            "charm\n",
            "of\n",
            "``\n",
            "night\n",
            "at\n",
            "the\n",
            "museum\n",
            "''\n",
            "with\n",
            "the\n",
            "fantast\n",
            "element\n",
            "of\n",
            "``\n",
            "the\n",
            "land\n",
            "of\n",
            "stori\n",
            ".\n",
            "''\n",
            "the\n",
            "stori\n",
            "follow\n",
            "twin\n",
            "page\n",
            "and\n",
            "turner\n",
            ",\n",
            "who\n",
            "have\n",
            "alway\n",
            "found\n",
            "solac\n",
            "in\n",
            "the\n",
            "new\n",
            "york\n",
            "public\n",
            "librari\n",
            "amidst\n",
            "their\n",
            "parent\n",
            "'\n",
            "frequent\n",
            "travel\n",
            ".\n",
            "howev\n",
            ",\n",
            "their\n",
            "routin\n",
            "visit\n",
            "take\n",
            "an\n",
            "unexpect\n",
            "turn\n",
            "when\n",
            "they\n",
            "embark\n",
            "on\n",
            "a\n",
            "secret\n",
            "mission\n",
            "that\n",
            "revolv\n",
            "around\n",
            "their\n",
            "father\n",
            "'s\n",
            "rare\n",
            "edit\n",
            "of\n",
            "bram\n",
            "stoker\n",
            "'s\n",
            "``\n",
            "dracula\n",
            ".\n",
            "''\n",
            "as\n",
            "the\n",
            "twin\n",
            "delv\n",
            "deeper\n",
            ",\n",
            "they\n",
            "encount\n",
            "a\n",
            "world\n",
            "hidden\n",
            "within\n",
            "the\n",
            "librari\n",
            "'s\n",
            "wall\n",
            ",\n",
            "brought\n",
            "to\n",
            "life\n",
            "by\n",
            "the\n",
            "enigmat\n",
            "night\n",
            "librarian\n",
            ".\n",
            "this\n",
            "charact\n",
            "serv\n",
            "as\n",
            "their\n",
            "guid\n",
            "through\n",
            "a\n",
            "realm\n",
            "where\n",
            "famous\n",
            "literari\n",
            "hero\n",
            "and\n",
            "villain\n",
            "have\n",
            "broken\n",
            "free\n",
            "from\n",
            "their\n",
            "page\n",
            ",\n",
            "creat\n",
            "a\n",
            "dynam\n",
            "and\n",
            "often\n",
            "chaotic\n",
            "environ\n",
            ".\n",
            "the\n",
            "stake\n",
            "are\n",
            "high\n",
            "as\n",
            "page\n",
            "and\n",
            "turner\n",
            ",\n",
            "alongsid\n",
            "their\n",
            "newfound\n",
            "alli\n",
            ",\n",
            "must\n",
            "prevent\n",
            "the\n",
            "librari\n",
            "'s\n",
            "immin\n",
            "destruct\n",
            ".\n",
            "``\n",
            "the\n",
            "night\n",
            "librarian\n",
            "''\n",
            "is\n",
            "a\n",
            "commend\n",
            "effort\n",
            "that\n",
            "will\n",
            "like\n",
            "appeal\n",
            "to\n",
            "young\n",
            "reader\n",
            "and\n",
            "fan\n",
            "of\n",
            "literari\n",
            "adventur\n",
            ".\n",
            "it\n",
            "blend\n",
            "of\n",
            "mysteri\n",
            ",\n",
            "magic\n",
            ",\n",
            "and\n",
            "familiar\n",
            "face\n",
            "from\n",
            "classic\n",
            "literatur\n",
            "offer\n",
            "a\n",
            "captiv\n",
            "experi\n",
            ",\n",
            "even\n",
            "if\n",
            "it\n",
            "doe\n",
            "n't\n",
            "fulli\n",
            "realiz\n",
            "it\n",
            "potenti\n",
            ".\n",
            "with\n",
            "more\n",
            "focus\n",
            "storytel\n",
            "and\n",
            "deeper\n",
            "charact\n",
            "explor\n",
            ",\n",
            "this\n",
            "seri\n",
            "has\n",
            "the\n",
            "potenti\n",
            "to\n",
            "becom\n",
            "a\n",
            "belov\n",
            "stapl\n",
            "in\n",
            "the\n",
            "graphic\n",
            "novel\n",
            "genr\n",
            ".\n",
            "for\n",
            "now\n",
            ",\n",
            "it\n",
            "stand\n",
            "as\n",
            "an\n",
            "enjoy\n",
            ",\n",
            "if\n",
            "somewhat\n",
            "uneven\n",
            ",\n",
            "introduct\n",
            "to\n",
            "the\n",
            "magic\n",
            "world\n",
            "hidden\n",
            "within\n",
            "the\n",
            "librari\n",
            "'s\n",
            "wall\n",
            ".\n"
          ]
        }
      ]
    },
    {
      "cell_type": "code",
      "source": [
        "from nltk.stem import WordNetLemmatizer"
      ],
      "metadata": {
        "id": "4W8zu4wgBcCh"
      },
      "execution_count": 38,
      "outputs": []
    },
    {
      "cell_type": "code",
      "source": [
        "lemma = WordNetLemmatizer()"
      ],
      "metadata": {
        "id": "RiG50HnmIGuJ"
      },
      "execution_count": 39,
      "outputs": []
    },
    {
      "cell_type": "code",
      "source": [
        "nltk.download('wordnet')"
      ],
      "metadata": {
        "colab": {
          "base_uri": "https://localhost:8080/"
        },
        "id": "v_ZXyaXbIZt7",
        "outputId": "7cc67db3-9098-4255-cdae-d333a6d020f5"
      },
      "execution_count": 42,
      "outputs": [
        {
          "output_type": "stream",
          "name": "stderr",
          "text": [
            "[nltk_data] Downloading package wordnet to /root/nltk_data...\n"
          ]
        },
        {
          "output_type": "execute_result",
          "data": {
            "text/plain": [
              "True"
            ]
          },
          "metadata": {},
          "execution_count": 42
        }
      ]
    },
    {
      "cell_type": "code",
      "source": [
        "from nltk.corpus import stopwords"
      ],
      "metadata": {
        "id": "GSzEdWO9Izuf"
      },
      "execution_count": 47,
      "outputs": []
    },
    {
      "cell_type": "code",
      "source": [
        "stop = stopwords.words('english')"
      ],
      "metadata": {
        "id": "UyKx63LQJGrA"
      },
      "execution_count": 48,
      "outputs": []
    },
    {
      "cell_type": "code",
      "source": [
        "stop.append('``')"
      ],
      "metadata": {
        "id": "WnNShg5DJYK9"
      },
      "execution_count": 50,
      "outputs": []
    },
    {
      "cell_type": "code",
      "source": [
        "\n",
        "[lemma.lemmatize(word.lower(),pos = 'v') for word in word_tok if word not in stop]"
      ],
      "metadata": {
        "colab": {
          "base_uri": "https://localhost:8080/"
        },
        "id": "0f8CDUWNINRf",
        "outputId": "9ff55bb7-0765-425a-933d-4ce0f09f63fb"
      },
      "execution_count": 51,
      "outputs": [
        {
          "output_type": "execute_result",
          "data": {
            "text/plain": [
              "['the',\n",
              " 'night',\n",
              " 'librarian',\n",
              " \"''\",\n",
              " 'christopher',\n",
              " 'lincoln',\n",
              " 'bring',\n",
              " 'unique',\n",
              " 'twist',\n",
              " 'adventure',\n",
              " 'genre',\n",
              " ',',\n",
              " 'combine',\n",
              " 'nostalgic',\n",
              " 'charm',\n",
              " 'night',\n",
              " 'museum',\n",
              " \"''\",\n",
              " 'fantastical',\n",
              " 'elements',\n",
              " 'the',\n",
              " 'land',\n",
              " 'stories',\n",
              " '.',\n",
              " \"''\",\n",
              " 'the',\n",
              " 'story',\n",
              " 'follow',\n",
              " 'twin',\n",
              " 'page',\n",
              " 'turner',\n",
              " ',',\n",
              " 'always',\n",
              " 'find',\n",
              " 'solace',\n",
              " 'new',\n",
              " 'york',\n",
              " 'public',\n",
              " 'library',\n",
              " 'amidst',\n",
              " 'parent',\n",
              " \"'\",\n",
              " 'frequent',\n",
              " 'travel',\n",
              " '.',\n",
              " 'however',\n",
              " ',',\n",
              " 'routine',\n",
              " 'visit',\n",
              " 'take',\n",
              " 'unexpected',\n",
              " 'turn',\n",
              " 'embark',\n",
              " 'secret',\n",
              " 'mission',\n",
              " 'revolve',\n",
              " 'around',\n",
              " 'father',\n",
              " \"'s\",\n",
              " 'rare',\n",
              " 'edition',\n",
              " 'bram',\n",
              " 'stoker',\n",
              " \"'s\",\n",
              " 'dracula',\n",
              " '.',\n",
              " \"''\",\n",
              " 'as',\n",
              " 'twin',\n",
              " 'delve',\n",
              " 'deeper',\n",
              " ',',\n",
              " 'encounter',\n",
              " 'world',\n",
              " 'hide',\n",
              " 'within',\n",
              " 'library',\n",
              " \"'s\",\n",
              " 'wall',\n",
              " ',',\n",
              " 'bring',\n",
              " 'life',\n",
              " 'enigmatic',\n",
              " 'night',\n",
              " 'librarian',\n",
              " '.',\n",
              " 'this',\n",
              " 'character',\n",
              " 'serve',\n",
              " 'guide',\n",
              " 'realm',\n",
              " 'famous',\n",
              " 'literary',\n",
              " 'heroes',\n",
              " 'villains',\n",
              " 'break',\n",
              " 'free',\n",
              " 'page',\n",
              " ',',\n",
              " 'create',\n",
              " 'dynamic',\n",
              " 'often',\n",
              " 'chaotic',\n",
              " 'environment',\n",
              " '.',\n",
              " 'the',\n",
              " 'stake',\n",
              " 'high',\n",
              " 'page',\n",
              " 'turner',\n",
              " ',',\n",
              " 'alongside',\n",
              " 'newfound',\n",
              " 'ally',\n",
              " ',',\n",
              " 'must',\n",
              " 'prevent',\n",
              " 'library',\n",
              " \"'s\",\n",
              " 'imminent',\n",
              " 'destruction',\n",
              " '.',\n",
              " 'the',\n",
              " 'night',\n",
              " 'librarian',\n",
              " \"''\",\n",
              " 'commendable',\n",
              " 'effort',\n",
              " 'likely',\n",
              " 'appeal',\n",
              " 'young',\n",
              " 'readers',\n",
              " 'fan',\n",
              " 'literary',\n",
              " 'adventure',\n",
              " '.',\n",
              " 'its',\n",
              " 'blend',\n",
              " 'mystery',\n",
              " ',',\n",
              " 'magic',\n",
              " ',',\n",
              " 'familiar',\n",
              " 'face',\n",
              " 'classic',\n",
              " 'literature',\n",
              " 'offer',\n",
              " 'captivate',\n",
              " 'experience',\n",
              " ',',\n",
              " 'even',\n",
              " \"n't\",\n",
              " 'fully',\n",
              " 'realize',\n",
              " 'potential',\n",
              " '.',\n",
              " 'with',\n",
              " 'focus',\n",
              " 'storytelling',\n",
              " 'deeper',\n",
              " 'character',\n",
              " 'exploration',\n",
              " ',',\n",
              " 'series',\n",
              " 'potential',\n",
              " 'become',\n",
              " 'beloved',\n",
              " 'staple',\n",
              " 'graphic',\n",
              " 'novel',\n",
              " 'genre',\n",
              " '.',\n",
              " 'for',\n",
              " ',',\n",
              " 'stand',\n",
              " 'enjoyable',\n",
              " ',',\n",
              " 'somewhat',\n",
              " 'uneven',\n",
              " ',',\n",
              " 'introduction',\n",
              " 'magical',\n",
              " 'world',\n",
              " 'hide',\n",
              " 'within',\n",
              " 'library',\n",
              " \"'s\",\n",
              " 'wall',\n",
              " '.']"
            ]
          },
          "metadata": {},
          "execution_count": 51
        }
      ]
    },
    {
      "cell_type": "code",
      "source": [],
      "metadata": {
        "id": "uQ3_gKcJIkDJ"
      },
      "execution_count": null,
      "outputs": []
    }
  ]
}